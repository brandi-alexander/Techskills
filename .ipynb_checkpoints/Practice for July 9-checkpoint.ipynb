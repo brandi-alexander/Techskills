{
 "cells": [
  {
   "cell_type": "code",
   "execution_count": 1,
   "metadata": {},
   "outputs": [],
   "source": [
    "import pandas as pd\n",
    "import matplotlib.pyplot as plt\n",
    "\n",
    "%matplotlib inline\n"
   ]
  },
  {
   "cell_type": "markdown",
   "metadata": {},
   "source": [
    "1.  Load the \"NYPD_Shooting_Incident_Data__Historic_.csv\" dataframe.  Make sure the data frame loaded correctly.  You can examine the coding guide for the dataset:  https://data.cityofnewyork.us/Public-Safety/NYPD-Shooting-Incident-Data-Historic-/833y-fsy8   \n",
    "2.  Examine the datatype of each variable\n",
    "3.  What is the shape of the dataset?\n",
    "4.  Examine the Series \"OCCUR_DATE\".  What information did you learn from examining this column?   \n",
    "5.  Do a \"frequency distribution\" for the months where shootings have occurred.  What month had the most number of shootings?\n",
    "6.  Plot a bar graph visualizing the precincts with the 10 highest shooting incidents.\n",
    "7.  Plot the number of shooting incidents per borough.  Google and add a title to your graph, as well as x and y axis labels.\n",
    "8. Create a dataframe of shootings in the Bronx where the victim was a White Hispanic\n",
    "9. Make two dataframes -- one showing day shootings (9 am - 9 pm, inclusive) and one showing night shootings.\n",
    "10.  Plot a graph of day shootings and one of night shootings.  What do you notice?"
   ]
  },
  {
   "cell_type": "code",
   "execution_count": null,
   "metadata": {},
   "outputs": [],
   "source": []
  }
 ],
 "metadata": {
  "kernelspec": {
   "display_name": "Python 3",
   "language": "python",
   "name": "python3"
  },
  "language_info": {
   "codemirror_mode": {
    "name": "ipython",
    "version": 3
   },
   "file_extension": ".py",
   "mimetype": "text/x-python",
   "name": "python",
   "nbconvert_exporter": "python",
   "pygments_lexer": "ipython3",
   "version": "3.7.0"
  }
 },
 "nbformat": 4,
 "nbformat_minor": 2
}
