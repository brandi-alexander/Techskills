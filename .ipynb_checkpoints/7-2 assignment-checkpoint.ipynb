{
 "cells": [
  {
   "cell_type": "markdown",
   "metadata": {
    "colab_type": "text",
    "id": "yZ8BhQWlRS65"
   },
   "source": [
    "Write a piece of code that plots the historical populations of Cuba, Dominican Republic, Haiti, and Puerto Rico using the data in the file <u>islandsHistPop.csv</u>.  You may add as many code cells as you need.  Make sure to examine the data file.\n",
    "\n",
    "1.  Which island has the largest population?\n",
    "2.  When did the population of the Dominican Republic pass that of Haiti?\n"
   ]
  },
  {
   "cell_type": "code",
   "execution_count": null,
   "metadata": {
    "colab": {},
    "colab_type": "code",
    "id": "hYVKJOl_Oogj"
   },
   "outputs": [],
   "source": []
  },
  {
   "cell_type": "code",
   "execution_count": null,
   "metadata": {
    "colab": {},
    "colab_type": "code",
    "id": "pnVjek5HShc9"
   },
   "outputs": [],
   "source": []
  }
 ],
 "metadata": {
  "colab": {
   "name": "Untitled7.ipynb",
   "provenance": []
  },
  "kernelspec": {
   "display_name": "Python 3",
   "language": "python",
   "name": "python3"
  }
 },
 "nbformat": 4,
 "nbformat_minor": 1
}
