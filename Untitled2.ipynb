{
 "cells": [
  {
   "cell_type": "code",
   "execution_count": 1,
   "metadata": {},
   "outputs": [],
   "source": [
    "import pandas as pd\n",
    "import matplotlib.pyplot as plt \n",
    "\n",
    "%matplotlib inline"
   ]
  },
  {
   "cell_type": "code",
   "execution_count": 2,
   "metadata": {},
   "outputs": [],
   "source": [
    "shootings = pd.read_csv('NYPD_Shooting_Incident_Data__Historic_.csv')"
   ]
  },
  {
   "cell_type": "code",
   "execution_count": 3,
   "metadata": {},
   "outputs": [
    {
     "data": {
      "text/html": [
       "<div>\n",
       "<style scoped>\n",
       "    .dataframe tbody tr th:only-of-type {\n",
       "        vertical-align: middle;\n",
       "    }\n",
       "\n",
       "    .dataframe tbody tr th {\n",
       "        vertical-align: top;\n",
       "    }\n",
       "\n",
       "    .dataframe thead th {\n",
       "        text-align: right;\n",
       "    }\n",
       "</style>\n",
       "<table border=\"1\" class=\"dataframe\">\n",
       "  <thead>\n",
       "    <tr style=\"text-align: right;\">\n",
       "      <th></th>\n",
       "      <th>INCIDENT_KEY</th>\n",
       "      <th>OCCUR_DATE</th>\n",
       "      <th>OCCUR_TIME</th>\n",
       "      <th>BORO</th>\n",
       "      <th>PRECINCT</th>\n",
       "      <th>JURISDICTION_CODE</th>\n",
       "      <th>LOCATION_DESC</th>\n",
       "      <th>STATISTICAL_MURDER_FLAG</th>\n",
       "      <th>PERP_AGE_GROUP</th>\n",
       "      <th>PERP_SEX</th>\n",
       "      <th>PERP_RACE</th>\n",
       "      <th>VIC_AGE_GROUP</th>\n",
       "      <th>VIC_SEX</th>\n",
       "      <th>VIC_RACE</th>\n",
       "      <th>X_COORD_CD</th>\n",
       "      <th>Y_COORD_CD</th>\n",
       "      <th>Latitude</th>\n",
       "      <th>Longitude</th>\n",
       "      <th>Lon_Lat</th>\n",
       "    </tr>\n",
       "  </thead>\n",
       "  <tbody>\n",
       "    <tr>\n",
       "      <th>0</th>\n",
       "      <td>199247701</td>\n",
       "      <td>07/03/2019</td>\n",
       "      <td>00:04:00</td>\n",
       "      <td>QUEENS</td>\n",
       "      <td>114</td>\n",
       "      <td>2</td>\n",
       "      <td>MULTI DWELL - PUBLIC HOUS</td>\n",
       "      <td>False</td>\n",
       "      <td>&lt;18</td>\n",
       "      <td>M</td>\n",
       "      <td>WHITE</td>\n",
       "      <td>25-44</td>\n",
       "      <td>M</td>\n",
       "      <td>WHITE HISPANIC</td>\n",
       "      <td>999925</td>\n",
       "      <td>214507</td>\n",
       "      <td>40.755443</td>\n",
       "      <td>-73.943423</td>\n",
       "      <td>POINT (-73.94342324599995 40.755443005000075)</td>\n",
       "    </tr>\n",
       "    <tr>\n",
       "      <th>1</th>\n",
       "      <td>199247701</td>\n",
       "      <td>07/03/2019</td>\n",
       "      <td>00:04:00</td>\n",
       "      <td>QUEENS</td>\n",
       "      <td>114</td>\n",
       "      <td>2</td>\n",
       "      <td>MULTI DWELL - PUBLIC HOUS</td>\n",
       "      <td>False</td>\n",
       "      <td>&lt;18</td>\n",
       "      <td>M</td>\n",
       "      <td>WHITE</td>\n",
       "      <td>25-44</td>\n",
       "      <td>M</td>\n",
       "      <td>WHITE HISPANIC</td>\n",
       "      <td>999,925</td>\n",
       "      <td>214,507</td>\n",
       "      <td>40.755443</td>\n",
       "      <td>-73.943423</td>\n",
       "      <td>POINT (-73.94342324599995 40.755443005000075)</td>\n",
       "    </tr>\n",
       "    <tr>\n",
       "      <th>2</th>\n",
       "      <td>199247701</td>\n",
       "      <td>07/03/2019</td>\n",
       "      <td>00:04:00</td>\n",
       "      <td>QUEENS</td>\n",
       "      <td>114</td>\n",
       "      <td>2</td>\n",
       "      <td>MULTI DWELL - PUBLIC HOUS</td>\n",
       "      <td>False</td>\n",
       "      <td>&lt;18</td>\n",
       "      <td>M</td>\n",
       "      <td>WHITE</td>\n",
       "      <td>18-24</td>\n",
       "      <td>M</td>\n",
       "      <td>BLACK</td>\n",
       "      <td>999,925</td>\n",
       "      <td>214,507</td>\n",
       "      <td>40.755443</td>\n",
       "      <td>-73.943423</td>\n",
       "      <td>POINT (-73.94342324599995 40.755443005000075)</td>\n",
       "    </tr>\n",
       "    <tr>\n",
       "      <th>3</th>\n",
       "      <td>199247701</td>\n",
       "      <td>07/03/2019</td>\n",
       "      <td>00:04:00</td>\n",
       "      <td>QUEENS</td>\n",
       "      <td>114</td>\n",
       "      <td>2</td>\n",
       "      <td>MULTI DWELL - PUBLIC HOUS</td>\n",
       "      <td>False</td>\n",
       "      <td>UNKNOWN</td>\n",
       "      <td>U</td>\n",
       "      <td>UNKNOWN</td>\n",
       "      <td>18-24</td>\n",
       "      <td>M</td>\n",
       "      <td>BLACK</td>\n",
       "      <td>999925</td>\n",
       "      <td>214507</td>\n",
       "      <td>40.755443</td>\n",
       "      <td>-73.943423</td>\n",
       "      <td>POINT (-73.94342324599995 40.755443005000075)</td>\n",
       "    </tr>\n",
       "    <tr>\n",
       "      <th>4</th>\n",
       "      <td>199247701</td>\n",
       "      <td>07/03/2019</td>\n",
       "      <td>00:04:00</td>\n",
       "      <td>QUEENS</td>\n",
       "      <td>114</td>\n",
       "      <td>2</td>\n",
       "      <td>MULTI DWELL - PUBLIC HOUS</td>\n",
       "      <td>False</td>\n",
       "      <td>25-44</td>\n",
       "      <td>M</td>\n",
       "      <td>BLACK</td>\n",
       "      <td>18-24</td>\n",
       "      <td>M</td>\n",
       "      <td>BLACK</td>\n",
       "      <td>999925</td>\n",
       "      <td>214507</td>\n",
       "      <td>40.755443</td>\n",
       "      <td>-73.943423</td>\n",
       "      <td>POINT (-73.94342324599995 40.755443005000075)</td>\n",
       "    </tr>\n",
       "  </tbody>\n",
       "</table>\n",
       "</div>"
      ],
      "text/plain": [
       "   INCIDENT_KEY  OCCUR_DATE OCCUR_TIME    BORO  PRECINCT  JURISDICTION_CODE  \\\n",
       "0     199247701  07/03/2019   00:04:00  QUEENS       114                  2   \n",
       "1     199247701  07/03/2019   00:04:00  QUEENS       114                  2   \n",
       "2     199247701  07/03/2019   00:04:00  QUEENS       114                  2   \n",
       "3     199247701  07/03/2019   00:04:00  QUEENS       114                  2   \n",
       "4     199247701  07/03/2019   00:04:00  QUEENS       114                  2   \n",
       "\n",
       "               LOCATION_DESC  STATISTICAL_MURDER_FLAG PERP_AGE_GROUP PERP_SEX  \\\n",
       "0  MULTI DWELL - PUBLIC HOUS                    False            <18        M   \n",
       "1  MULTI DWELL - PUBLIC HOUS                    False            <18        M   \n",
       "2  MULTI DWELL - PUBLIC HOUS                    False            <18        M   \n",
       "3  MULTI DWELL - PUBLIC HOUS                    False        UNKNOWN        U   \n",
       "4  MULTI DWELL - PUBLIC HOUS                    False          25-44        M   \n",
       "\n",
       "  PERP_RACE VIC_AGE_GROUP VIC_SEX        VIC_RACE X_COORD_CD Y_COORD_CD  \\\n",
       "0     WHITE         25-44       M  WHITE HISPANIC     999925     214507   \n",
       "1     WHITE         25-44       M  WHITE HISPANIC    999,925    214,507   \n",
       "2     WHITE         18-24       M           BLACK    999,925    214,507   \n",
       "3   UNKNOWN         18-24       M           BLACK     999925     214507   \n",
       "4     BLACK         18-24       M           BLACK     999925     214507   \n",
       "\n",
       "    Latitude  Longitude                                        Lon_Lat  \n",
       "0  40.755443 -73.943423  POINT (-73.94342324599995 40.755443005000075)  \n",
       "1  40.755443 -73.943423  POINT (-73.94342324599995 40.755443005000075)  \n",
       "2  40.755443 -73.943423  POINT (-73.94342324599995 40.755443005000075)  \n",
       "3  40.755443 -73.943423  POINT (-73.94342324599995 40.755443005000075)  \n",
       "4  40.755443 -73.943423  POINT (-73.94342324599995 40.755443005000075)  "
      ]
     },
     "execution_count": 3,
     "metadata": {},
     "output_type": "execute_result"
    }
   ],
   "source": [
    "shootings.head()"
   ]
  },
  {
   "cell_type": "code",
   "execution_count": 4,
   "metadata": {},
   "outputs": [],
   "source": [
    "babies = pd.read_csv('babies.data')"
   ]
  },
  {
   "cell_type": "code",
   "execution_count": 5,
   "metadata": {},
   "outputs": [
    {
     "data": {
      "text/html": [
       "<div>\n",
       "<style scoped>\n",
       "    .dataframe tbody tr th:only-of-type {\n",
       "        vertical-align: middle;\n",
       "    }\n",
       "\n",
       "    .dataframe tbody tr th {\n",
       "        vertical-align: top;\n",
       "    }\n",
       "\n",
       "    .dataframe thead th {\n",
       "        text-align: right;\n",
       "    }\n",
       "</style>\n",
       "<table border=\"1\" class=\"dataframe\">\n",
       "  <thead>\n",
       "    <tr style=\"text-align: right;\">\n",
       "      <th></th>\n",
       "      <th>bwt gestation parity age height weight smoke</th>\n",
       "    </tr>\n",
       "  </thead>\n",
       "  <tbody>\n",
       "    <tr>\n",
       "      <th>0</th>\n",
       "      <td>120 284   0  27  62 100   0</td>\n",
       "    </tr>\n",
       "    <tr>\n",
       "      <th>1</th>\n",
       "      <td>113 282   0  33  64 135   0</td>\n",
       "    </tr>\n",
       "    <tr>\n",
       "      <th>2</th>\n",
       "      <td>128 279   0  28  64 115   1</td>\n",
       "    </tr>\n",
       "    <tr>\n",
       "      <th>3</th>\n",
       "      <td>123 999   0  36  69 190   0</td>\n",
       "    </tr>\n",
       "    <tr>\n",
       "      <th>4</th>\n",
       "      <td>108 282   0  23  67 125   1</td>\n",
       "    </tr>\n",
       "  </tbody>\n",
       "</table>\n",
       "</div>"
      ],
      "text/plain": [
       "  bwt gestation parity age height weight smoke\n",
       "0                  120 284   0  27  62 100   0\n",
       "1                  113 282   0  33  64 135   0\n",
       "2                  128 279   0  28  64 115   1\n",
       "3                  123 999   0  36  69 190   0\n",
       "4                  108 282   0  23  67 125   1"
      ]
     },
     "execution_count": 5,
     "metadata": {},
     "output_type": "execute_result"
    }
   ],
   "source": [
    "babies.head()"
   ]
  },
  {
   "cell_type": "code",
   "execution_count": 6,
   "metadata": {},
   "outputs": [],
   "source": [
    "zillow = pd.read_csv('data-zillow.csv')"
   ]
  },
  {
   "cell_type": "code",
   "execution_count": 7,
   "metadata": {},
   "outputs": [
    {
     "data": {
      "text/html": [
       "<div>\n",
       "<style scoped>\n",
       "    .dataframe tbody tr th:only-of-type {\n",
       "        vertical-align: middle;\n",
       "    }\n",
       "\n",
       "    .dataframe tbody tr th {\n",
       "        vertical-align: top;\n",
       "    }\n",
       "\n",
       "    .dataframe thead th {\n",
       "        text-align: right;\n",
       "    }\n",
       "</style>\n",
       "<table border=\"1\" class=\"dataframe\">\n",
       "  <thead>\n",
       "    <tr style=\"text-align: right;\">\n",
       "      <th></th>\n",
       "      <th>Date</th>\n",
       "      <th>RegionID</th>\n",
       "      <th>RegionName</th>\n",
       "      <th>State</th>\n",
       "      <th>Metro</th>\n",
       "      <th>County</th>\n",
       "      <th>SizeRank</th>\n",
       "      <th>Zhvi</th>\n",
       "    </tr>\n",
       "  </thead>\n",
       "  <tbody>\n",
       "    <tr>\n",
       "      <th>0</th>\n",
       "      <td>5/31/2017</td>\n",
       "      <td>6181</td>\n",
       "      <td>New York</td>\n",
       "      <td>NY</td>\n",
       "      <td>New York</td>\n",
       "      <td>Queens</td>\n",
       "      <td>0</td>\n",
       "      <td>672400</td>\n",
       "    </tr>\n",
       "    <tr>\n",
       "      <th>1</th>\n",
       "      <td>5/31/2017</td>\n",
       "      <td>12447</td>\n",
       "      <td>Los Angeles</td>\n",
       "      <td>CA</td>\n",
       "      <td>Los Angeles-Long Beach-Anaheim</td>\n",
       "      <td>Los Angeles</td>\n",
       "      <td>1</td>\n",
       "      <td>629900</td>\n",
       "    </tr>\n",
       "    <tr>\n",
       "      <th>2</th>\n",
       "      <td>5/31/2017</td>\n",
       "      <td>17426</td>\n",
       "      <td>Chicago</td>\n",
       "      <td>IL</td>\n",
       "      <td>Chicago</td>\n",
       "      <td>Cook</td>\n",
       "      <td>2</td>\n",
       "      <td>222700</td>\n",
       "    </tr>\n",
       "    <tr>\n",
       "      <th>3</th>\n",
       "      <td>5/31/2017</td>\n",
       "      <td>13271</td>\n",
       "      <td>Philadelphia</td>\n",
       "      <td>PA</td>\n",
       "      <td>Philadelphia</td>\n",
       "      <td>Philadelphia</td>\n",
       "      <td>3</td>\n",
       "      <td>137300</td>\n",
       "    </tr>\n",
       "    <tr>\n",
       "      <th>4</th>\n",
       "      <td>5/31/2017</td>\n",
       "      <td>40326</td>\n",
       "      <td>Phoenix</td>\n",
       "      <td>AZ</td>\n",
       "      <td>Phoenix</td>\n",
       "      <td>Maricopa</td>\n",
       "      <td>4</td>\n",
       "      <td>211300</td>\n",
       "    </tr>\n",
       "  </tbody>\n",
       "</table>\n",
       "</div>"
      ],
      "text/plain": [
       "        Date  RegionID    RegionName State                           Metro  \\\n",
       "0  5/31/2017      6181      New York    NY                        New York   \n",
       "1  5/31/2017     12447   Los Angeles    CA  Los Angeles-Long Beach-Anaheim   \n",
       "2  5/31/2017     17426       Chicago    IL                         Chicago   \n",
       "3  5/31/2017     13271  Philadelphia    PA                    Philadelphia   \n",
       "4  5/31/2017     40326       Phoenix    AZ                         Phoenix   \n",
       "\n",
       "         County  SizeRank    Zhvi  \n",
       "0        Queens         0  672400  \n",
       "1   Los Angeles         1  629900  \n",
       "2          Cook         2  222700  \n",
       "3  Philadelphia         3  137300  \n",
       "4      Maricopa         4  211300  "
      ]
     },
     "execution_count": 7,
     "metadata": {},
     "output_type": "execute_result"
    }
   ],
   "source": [
    "zillow.head()"
   ]
  },
  {
   "cell_type": "code",
   "execution_count": 8,
   "metadata": {},
   "outputs": [
    {
     "data": {
      "text/plain": [
       "Date          object\n",
       "RegionID       int64\n",
       "RegionName    object\n",
       "State         object\n",
       "Metro         object\n",
       "County        object\n",
       "SizeRank       int64\n",
       "Zhvi           int64\n",
       "dtype: object"
      ]
     },
     "execution_count": 8,
     "metadata": {},
     "output_type": "execute_result"
    }
   ],
   "source": [
    "zillow.dtypes"
   ]
  },
  {
   "cell_type": "code",
   "execution_count": 9,
   "metadata": {},
   "outputs": [],
   "source": [
    "by_price = zillow.sort_values('Zhvi')"
   ]
  },
  {
   "cell_type": "code",
   "execution_count": 10,
   "metadata": {},
   "outputs": [
    {
     "data": {
      "text/html": [
       "<div>\n",
       "<style scoped>\n",
       "    .dataframe tbody tr th:only-of-type {\n",
       "        vertical-align: middle;\n",
       "    }\n",
       "\n",
       "    .dataframe tbody tr th {\n",
       "        vertical-align: top;\n",
       "    }\n",
       "\n",
       "    .dataframe thead th {\n",
       "        text-align: right;\n",
       "    }\n",
       "</style>\n",
       "<table border=\"1\" class=\"dataframe\">\n",
       "  <thead>\n",
       "    <tr style=\"text-align: right;\">\n",
       "      <th></th>\n",
       "      <th>Date</th>\n",
       "      <th>RegionID</th>\n",
       "      <th>RegionName</th>\n",
       "      <th>State</th>\n",
       "      <th>Metro</th>\n",
       "      <th>County</th>\n",
       "      <th>SizeRank</th>\n",
       "      <th>Zhvi</th>\n",
       "    </tr>\n",
       "  </thead>\n",
       "  <tbody>\n",
       "    <tr>\n",
       "      <th>4336</th>\n",
       "      <td>5/31/2017</td>\n",
       "      <td>54157</td>\n",
       "      <td>River Rouge</td>\n",
       "      <td>MI</td>\n",
       "      <td>Detroit</td>\n",
       "      <td>Wayne</td>\n",
       "      <td>4336</td>\n",
       "      <td>37400</td>\n",
       "    </tr>\n",
       "    <tr>\n",
       "      <th>3892</th>\n",
       "      <td>5/31/2017</td>\n",
       "      <td>45074</td>\n",
       "      <td>Ecorse</td>\n",
       "      <td>MI</td>\n",
       "      <td>Detroit</td>\n",
       "      <td>Wayne</td>\n",
       "      <td>3892</td>\n",
       "      <td>37500</td>\n",
       "    </tr>\n",
       "    <tr>\n",
       "      <th>3504</th>\n",
       "      <td>5/31/2017</td>\n",
       "      <td>53471</td>\n",
       "      <td>Muskegon Heights</td>\n",
       "      <td>MI</td>\n",
       "      <td>Muskegon</td>\n",
       "      <td>Muskegon</td>\n",
       "      <td>3504</td>\n",
       "      <td>40400</td>\n",
       "    </tr>\n",
       "    <tr>\n",
       "      <th>1690</th>\n",
       "      <td>5/31/2017</td>\n",
       "      <td>39109</td>\n",
       "      <td>Inkster</td>\n",
       "      <td>MI</td>\n",
       "      <td>Detroit</td>\n",
       "      <td>Wayne</td>\n",
       "      <td>1690</td>\n",
       "      <td>40600</td>\n",
       "    </tr>\n",
       "    <tr>\n",
       "      <th>3073</th>\n",
       "      <td>5/31/2017</td>\n",
       "      <td>23903</td>\n",
       "      <td>Cahokia</td>\n",
       "      <td>IL</td>\n",
       "      <td>St. Louis</td>\n",
       "      <td>Saint Clair</td>\n",
       "      <td>3073</td>\n",
       "      <td>40900</td>\n",
       "    </tr>\n",
       "  </tbody>\n",
       "</table>\n",
       "</div>"
      ],
      "text/plain": [
       "           Date  RegionID        RegionName State      Metro       County  \\\n",
       "4336  5/31/2017     54157       River Rouge    MI    Detroit        Wayne   \n",
       "3892  5/31/2017     45074            Ecorse    MI    Detroit        Wayne   \n",
       "3504  5/31/2017     53471  Muskegon Heights    MI   Muskegon     Muskegon   \n",
       "1690  5/31/2017     39109           Inkster    MI    Detroit        Wayne   \n",
       "3073  5/31/2017     23903           Cahokia    IL  St. Louis  Saint Clair   \n",
       "\n",
       "      SizeRank   Zhvi  \n",
       "4336      4336  37400  \n",
       "3892      3892  37500  \n",
       "3504      3504  40400  \n",
       "1690      1690  40600  \n",
       "3073      3073  40900  "
      ]
     },
     "execution_count": 10,
     "metadata": {},
     "output_type": "execute_result"
    }
   ],
   "source": [
    "by_price.head()"
   ]
  },
  {
   "cell_type": "code",
   "execution_count": 12,
   "metadata": {},
   "outputs": [],
   "source": [
    "by_price = zillow.sort_values('Zhvi', ascending = False)"
   ]
  },
  {
   "cell_type": "code",
   "execution_count": 13,
   "metadata": {},
   "outputs": [
    {
     "data": {
      "text/html": [
       "<div>\n",
       "<style scoped>\n",
       "    .dataframe tbody tr th:only-of-type {\n",
       "        vertical-align: middle;\n",
       "    }\n",
       "\n",
       "    .dataframe tbody tr th {\n",
       "        vertical-align: top;\n",
       "    }\n",
       "\n",
       "    .dataframe thead th {\n",
       "        text-align: right;\n",
       "    }\n",
       "</style>\n",
       "<table border=\"1\" class=\"dataframe\">\n",
       "  <thead>\n",
       "    <tr style=\"text-align: right;\">\n",
       "      <th></th>\n",
       "      <th>Date</th>\n",
       "      <th>RegionID</th>\n",
       "      <th>RegionName</th>\n",
       "      <th>State</th>\n",
       "      <th>Metro</th>\n",
       "      <th>County</th>\n",
       "      <th>SizeRank</th>\n",
       "      <th>Zhvi</th>\n",
       "    </tr>\n",
       "  </thead>\n",
       "  <tbody>\n",
       "    <tr>\n",
       "      <th>4629</th>\n",
       "      <td>5/31/2017</td>\n",
       "      <td>30280</td>\n",
       "      <td>Atherton</td>\n",
       "      <td>CA</td>\n",
       "      <td>San Francisco</td>\n",
       "      <td>San Mateo</td>\n",
       "      <td>4629</td>\n",
       "      <td>6343800</td>\n",
       "    </tr>\n",
       "    <tr>\n",
       "      <th>4439</th>\n",
       "      <td>5/31/2017</td>\n",
       "      <td>32578</td>\n",
       "      <td>Los Altos Hills</td>\n",
       "      <td>CA</td>\n",
       "      <td>San Jose</td>\n",
       "      <td>Santa Clara</td>\n",
       "      <td>4439</td>\n",
       "      <td>4308800</td>\n",
       "    </tr>\n",
       "    <tr>\n",
       "      <th>10180</th>\n",
       "      <td>5/31/2017</td>\n",
       "      <td>124901</td>\n",
       "      <td>Jupiter Island</td>\n",
       "      <td>FL</td>\n",
       "      <td>Port St. Lucie</td>\n",
       "      <td>Martin</td>\n",
       "      <td>10180</td>\n",
       "      <td>4248200</td>\n",
       "    </tr>\n",
       "    <tr>\n",
       "      <th>3509</th>\n",
       "      <td>5/31/2017</td>\n",
       "      <td>55743</td>\n",
       "      <td>Hillsborough</td>\n",
       "      <td>CA</td>\n",
       "      <td>San Francisco</td>\n",
       "      <td>San Mateo</td>\n",
       "      <td>3509</td>\n",
       "      <td>4203800</td>\n",
       "    </tr>\n",
       "    <tr>\n",
       "      <th>9714</th>\n",
       "      <td>5/31/2017</td>\n",
       "      <td>7774</td>\n",
       "      <td>Water Mill</td>\n",
       "      <td>NY</td>\n",
       "      <td>New York</td>\n",
       "      <td>Suffolk</td>\n",
       "      <td>9714</td>\n",
       "      <td>4085200</td>\n",
       "    </tr>\n",
       "  </tbody>\n",
       "</table>\n",
       "</div>"
      ],
      "text/plain": [
       "            Date  RegionID       RegionName State           Metro  \\\n",
       "4629   5/31/2017     30280         Atherton    CA   San Francisco   \n",
       "4439   5/31/2017     32578  Los Altos Hills    CA        San Jose   \n",
       "10180  5/31/2017    124901   Jupiter Island    FL  Port St. Lucie   \n",
       "3509   5/31/2017     55743     Hillsborough    CA   San Francisco   \n",
       "9714   5/31/2017      7774       Water Mill    NY        New York   \n",
       "\n",
       "            County  SizeRank     Zhvi  \n",
       "4629     San Mateo      4629  6343800  \n",
       "4439   Santa Clara      4439  4308800  \n",
       "10180       Martin     10180  4248200  \n",
       "3509     San Mateo      3509  4203800  \n",
       "9714       Suffolk      9714  4085200  "
      ]
     },
     "execution_count": 13,
     "metadata": {},
     "output_type": "execute_result"
    }
   ],
   "source": [
    "by_price.head()"
   ]
  },
  {
   "cell_type": "code",
   "execution_count": 14,
   "metadata": {},
   "outputs": [],
   "source": [
    "import folium"
   ]
  },
  {
   "cell_type": "markdown",
   "metadata": {},
   "source": [
    "Antherton CA 37.4613, 122.1977\n",
    "Los Altos Hills CA 37.3797, 122.1375\n",
    "Jupiter Island FL 27.0314, 80.1014"
   ]
  },
  {
   "cell_type": "code",
   "execution_count": null,
   "metadata": {},
   "outputs": [],
   "source": []
  },
  {
   "cell_type": "code",
   "execution_count": 40,
   "metadata": {},
   "outputs": [],
   "source": [
    "m = folium.Map(location = [37.0902, -95.7129], zoom_start = 3)"
   ]
  },
  {
   "cell_type": "code",
   "execution_count": 41,
   "metadata": {},
   "outputs": [
    {
     "data": {
      "text/html": [
       "<div style=\"width:100%;\"><div style=\"position:relative;width:100%;height:0;padding-bottom:60%;\"><span style=\"color:#565656\">Make this Notebook Trusted to load map: File -> Trust Notebook</span><iframe src=\"about:blank\" style=\"position:absolute;width:100%;height:100%;left:0;top:0;border:none !important;\" data-html=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 onload=\"this.contentDocument.open();this.contentDocument.write(atob(this.getAttribute('data-html')));this.contentDocument.close();\" allowfullscreen webkitallowfullscreen mozallowfullscreen></iframe></div></div>"
      ],
      "text/plain": [
       "<folium.folium.Map at 0x7ff3fa95e090>"
      ]
     },
     "execution_count": 41,
     "metadata": {},
     "output_type": "execute_result"
    }
   ],
   "source": [
    "m"
   ]
  },
  {
   "cell_type": "code",
   "execution_count": 42,
   "metadata": {},
   "outputs": [
    {
     "data": {
      "text/plain": [
       "<folium.map.Marker at 0x7ff3fa973750>"
      ]
     },
     "execution_count": 42,
     "metadata": {},
     "output_type": "execute_result"
    }
   ],
   "source": [
    "folium.Marker([40.8296, -73.9262], popup = 'Empire State Building').add_to(m)"
   ]
  },
  {
   "cell_type": "code",
   "execution_count": 43,
   "metadata": {},
   "outputs": [
    {
     "data": {
      "text/html": [
       "<div style=\"width:100%;\"><div style=\"position:relative;width:100%;height:0;padding-bottom:60%;\"><span style=\"color:#565656\">Make this Notebook Trusted to load map: File -> Trust Notebook</span><iframe src=\"about:blank\" style=\"position:absolute;width:100%;height:100%;left:0;top:0;border:none !important;\" data-html=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 onload=\"this.contentDocument.open();this.contentDocument.write(atob(this.getAttribute('data-html')));this.contentDocument.close();\" allowfullscreen webkitallowfullscreen mozallowfullscreen></iframe></div></div>"
      ],
      "text/plain": [
       "<folium.folium.Map at 0x7ff3fa95e090>"
      ]
     },
     "execution_count": 43,
     "metadata": {},
     "output_type": "execute_result"
    }
   ],
   "source": [
    "m"
   ]
  },
  {
   "cell_type": "code",
   "execution_count": 44,
   "metadata": {},
   "outputs": [
    {
     "data": {
      "text/plain": [
       "<folium.map.Marker at 0x7ff3fa95e410>"
      ]
     },
     "execution_count": 44,
     "metadata": {},
     "output_type": "execute_result"
    }
   ],
   "source": [
    "folium.Marker([37.4613, -122.1977], popup = 'Antherton CA').add_to(m)"
   ]
  },
  {
   "cell_type": "code",
   "execution_count": 45,
   "metadata": {},
   "outputs": [
    {
     "data": {
      "text/html": [
       "<div style=\"width:100%;\"><div style=\"position:relative;width:100%;height:0;padding-bottom:60%;\"><span style=\"color:#565656\">Make this Notebook Trusted to load map: File -> Trust Notebook</span><iframe src=\"about:blank\" style=\"position:absolute;width:100%;height:100%;left:0;top:0;border:none !important;\" data-html=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 onload=\"this.contentDocument.open();this.contentDocument.write(atob(this.getAttribute('data-html')));this.contentDocument.close();\" allowfullscreen webkitallowfullscreen mozallowfullscreen></iframe></div></div>"
      ],
      "text/plain": [
       "<folium.folium.Map at 0x7ff3fa95e090>"
      ]
     },
     "execution_count": 45,
     "metadata": {},
     "output_type": "execute_result"
    }
   ],
   "source": [
    "m"
   ]
  },
  {
   "cell_type": "code",
   "execution_count": 48,
   "metadata": {},
   "outputs": [
    {
     "data": {
      "text/plain": [
       "<folium.map.Marker at 0x7ff3fa9834d0>"
      ]
     },
     "execution_count": 48,
     "metadata": {},
     "output_type": "execute_result"
    }
   ],
   "source": [
    "folium.Marker([37.3797, -122.1375], popup = 'Los Altos Hills CA').add_to(m)"
   ]
  },
  {
   "cell_type": "code",
   "execution_count": 49,
   "metadata": {},
   "outputs": [
    {
     "data": {
      "text/html": [
       "<div style=\"width:100%;\"><div style=\"position:relative;width:100%;height:0;padding-bottom:60%;\"><span style=\"color:#565656\">Make this Notebook Trusted to load map: File -> Trust Notebook</span><iframe src=\"about:blank\" style=\"position:absolute;width:100%;height:100%;left:0;top:0;border:none !important;\" data-html=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 onload=\"this.contentDocument.open();this.contentDocument.write(atob(this.getAttribute('data-html')));this.contentDocument.close();\" allowfullscreen webkitallowfullscreen mozallowfullscreen></iframe></div></div>"
      ],
      "text/plain": [
       "<folium.folium.Map at 0x7ff3fa95e090>"
      ]
     },
     "execution_count": 49,
     "metadata": {},
     "output_type": "execute_result"
    }
   ],
   "source": [
    "m"
   ]
  },
  {
   "cell_type": "code",
   "execution_count": 51,
   "metadata": {},
   "outputs": [
    {
     "data": {
      "text/html": [
       "<div style=\"width:100%;\"><div style=\"position:relative;width:100%;height:0;padding-bottom:60%;\"><span style=\"color:#565656\">Make this Notebook Trusted to load map: File -> Trust Notebook</span><iframe src=\"about:blank\" style=\"position:absolute;width:100%;height:100%;left:0;top:0;border:none !important;\" data-html=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 onload=\"this.contentDocument.open();this.contentDocument.write(atob(this.getAttribute('data-html')));this.contentDocument.close();\" allowfullscreen webkitallowfullscreen mozallowfullscreen></iframe></div></div>"
      ],
      "text/plain": [
       "<folium.folium.Map at 0x7ff3fa95e090>"
      ]
     },
     "execution_count": 51,
     "metadata": {},
     "output_type": "execute_result"
    }
   ],
   "source": [
    "folium.Marker([27.0314, -80.1014], popup = 'Jupiter Island FL').add_to(m)\n",
    "m"
   ]
  },
  {
   "cell_type": "code",
   "execution_count": null,
   "metadata": {},
   "outputs": [],
   "source": []
  }
 ],
 "metadata": {
  "kernelspec": {
   "display_name": "Python 3",
   "language": "python",
   "name": "python3"
  },
  "language_info": {
   "codemirror_mode": {
    "name": "ipython",
    "version": 3
   },
   "file_extension": ".py",
   "mimetype": "text/x-python",
   "name": "python",
   "nbconvert_exporter": "python",
   "pygments_lexer": "ipython3",
   "version": "3.7.6"
  }
 },
 "nbformat": 4,
 "nbformat_minor": 4
}
